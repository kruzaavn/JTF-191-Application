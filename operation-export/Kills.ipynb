{
 "cells": [
  {
   "cell_type": "code",
   "execution_count": 3,
   "metadata": {},
   "outputs": [],
   "source": [
    "import json\n",
    "import pathlib\n",
    "import numpy as np"
   ]
  },
  {
   "cell_type": "code",
   "execution_count": 2,
   "metadata": {},
   "outputs": [],
   "source": [
    "start = json.loads(pathlib.Path('mission/JTF191_Operation_ShitStorm_M5_start.json').read_text())\n",
    "end = json.loads(pathlib.Path('mission/JTF191_Operation_ShitStorm_M5_end.json').read_text())"
   ]
  },
  {
   "cell_type": "code",
   "execution_count": 3,
   "metadata": {},
   "outputs": [],
   "source": [
    "killed = {x: start[x] for x in start.keys() if x not in end.keys()}"
   ]
  },
  {
   "cell_type": "code",
   "execution_count": 4,
   "metadata": {},
   "outputs": [],
   "source": [
    "with open('mission/JTF191_Operation_ShitStorm_M1_kills.json', 'w') as f:\n",
    "    json.dump(killed, f)"
   ]
  },
  {
   "cell_type": "code",
   "execution_count": 5,
   "metadata": {},
   "outputs": [],
   "source": [
    "units_damaged = {x['GroupName'] for x in killed.values()}"
   ]
  },
  {
   "cell_type": "code",
   "execution_count": 6,
   "metadata": {},
   "outputs": [],
   "source": [
    "units = {}\n",
    "\n",
    "for unit in units_damaged:\n",
    "    units[unit] = [x['Name'] for x in killed.values() if x['GroupName'] == unit]\n",
    "    \n"
   ]
  },
  {
   "cell_type": "code",
   "execution_count": 7,
   "metadata": {},
   "outputs": [
    {
     "data": {
      "text/plain": [
       "{'NOD-1NF-1CD-B-SILK': ['Silkworm_SR'],\n",
       " 'GDI-191NF-CAW7-F-FUEL-1': ['S-3B Tanker'],\n",
       " 'GDI-191AF-2U-D-UAVR-3': ['MQ-9 Reaper'],\n",
       " 'NOD-2-6-17-B-ARMR': ['M-1 Abrams',\n",
       "  'M-1 Abrams',\n",
       "  'M-1 Abrams',\n",
       "  'M-1 Abrams',\n",
       "  'M-1 Abrams',\n",
       "  'M1043 HMMWV Armament',\n",
       "  'M1043 HMMWV Armament',\n",
       "  'M1043 HMMWV Armament',\n",
       "  'M1043 HMMWV Armament',\n",
       "  'M1043 HMMWV Armament',\n",
       "  'M-1 Abrams'],\n",
       " 'NOD-2-6-17-D-LOGI': ['Ural-375',\n",
       "  'Ural-375',\n",
       "  'Ural-375',\n",
       "  'Ural-375',\n",
       "  'Ural-375'],\n",
       " 'GDI-13-GCE-E-CAC A': ['AH-1W'],\n",
       " 'NOD-2-6-16-A-MECH': ['M1128 Stryker MGS',\n",
       "  'M1128 Stryker MGS',\n",
       "  'M1128 Stryker MGS',\n",
       "  'M1128 Stryker MGS',\n",
       "  'M1126 Stryker ICV',\n",
       "  'M1126 Stryker ICV',\n",
       "  'M1126 Stryker ICV',\n",
       "  'M1126 Stryker ICV',\n",
       "  'M1134 Stryker ATGM',\n",
       "  'M1134 Stryker ATGM'],\n",
       " 'GDI-191AF-2U-D-UAVR-2': ['MQ-9 Reaper'],\n",
       " 'NOD-1NF-1C-A-1': ['F-14B', 'F-14B'],\n",
       " 'GDI-191AF-2U-D-UAVR-1': ['MQ-9 Reaper'],\n",
       " 'GDI-1-1-3-C-MECH': ['M1126 Stryker ICV'],\n",
       " 'GDI-13-GCE-E-CAC C': ['AH-1W'],\n",
       " 'GDI-13-GCE-E-CAC D': ['AH-1W'],\n",
       " 'GDI-1-1-3-B-ARMR': ['M-1 Abrams', 'Ural-375', 'Ural-375', 'Ural-375'],\n",
       " 'GDI-191AF-1U-D-FUEL-1': ['KC135MPRS'],\n",
       " 'NOD-2-4-11-D-ARTY': ['M-109',\n",
       "  'M-109',\n",
       "  'M-109',\n",
       "  'M-109',\n",
       "  'M-109',\n",
       "  'M-109',\n",
       "  'M-109',\n",
       "  'M-109',\n",
       "  'MLRS',\n",
       "  'MLRS',\n",
       "  'MLRS',\n",
       "  'MLRS',\n",
       "  'M 818',\n",
       "  'Hummer',\n",
       "  'M 818',\n",
       "  'M 818',\n",
       "  'M 818',\n",
       "  'M 818',\n",
       "  'M 818'],\n",
       " 'GDI-13-GCE-E-CAC B': ['AH-1W'],\n",
       " 'NOD-2-4-10-C-MECH': ['M1128 Stryker MGS',\n",
       "  'M1128 Stryker MGS',\n",
       "  'M1128 Stryker MGS',\n",
       "  'M1043 HMMWV Armament',\n",
       "  'M1043 HMMWV Armament',\n",
       "  'M1043 HMMWV Armament',\n",
       "  'M1043 HMMWV Armament',\n",
       "  'M1134 Stryker ATGM',\n",
       "  'M1134 Stryker ATGM',\n",
       "  'M1134 Stryker ATGM',\n",
       "  'M1134 Stryker ATGM',\n",
       "  'Vulcan',\n",
       "  'M1126 Stryker ICV',\n",
       "  'M1126 Stryker ICV',\n",
       "  'M1128 Stryker MGS',\n",
       "  'M1126 Stryker ICV',\n",
       "  'M1126 Stryker ICV',\n",
       "  'M1126 Stryker ICV',\n",
       "  'M1126 Stryker ICV',\n",
       "  'M1126 Stryker ICV',\n",
       "  'M1126 Stryker ICV'],\n",
       " 'NOD-1AF-2F-B-3': ['M-2000C', 'M-2000C', 'M-2000C', 'M-2000C'],\n",
       " 'GDI-191NF-CAW7-E-AWAC-1': ['E-2C'],\n",
       " 'GDI-191AF-1U-B-AWAC-2': ['E-3A'],\n",
       " 'NOD-2-4-11-C-ARTY': ['M-109',\n",
       "  'M-109',\n",
       "  'M-109',\n",
       "  'M-109',\n",
       "  'M-109',\n",
       "  'M-109',\n",
       "  'M-109',\n",
       "  'MLRS',\n",
       "  'MLRS',\n",
       "  'MLRS',\n",
       "  'MLRS',\n",
       "  'M 818',\n",
       "  'M 818',\n",
       "  'Hummer',\n",
       "  'M 818',\n",
       "  'M 818',\n",
       "  'M 818',\n",
       "  'M 818'],\n",
       " 'NOD-1-2-6-B-ARMR': ['M-1 Abrams',\n",
       "  'M-1 Abrams',\n",
       "  'M-1 Abrams',\n",
       "  'M-1 Abrams',\n",
       "  'M1043 HMMWV Armament',\n",
       "  'M1043 HMMWV Armament',\n",
       "  'M1043 HMMWV Armament'],\n",
       " 'NOD-2-6-17-C-MECH': ['M1128 Stryker MGS',\n",
       "  'M1128 Stryker MGS',\n",
       "  'M1128 Stryker MGS',\n",
       "  'M1043 HMMWV Armament',\n",
       "  'M1043 HMMWV Armament',\n",
       "  'M1126 Stryker ICV',\n",
       "  'M1126 Stryker ICV',\n",
       "  'M1126 Stryker ICV',\n",
       "  'M1126 Stryker ICV',\n",
       "  'M1134 Stryker ATGM',\n",
       "  'M1134 Stryker ATGM',\n",
       "  'M1134 Stryker ATGM'],\n",
       " 'NOD-1-2-6-A-ARMR': ['BMP-3'],\n",
       " 'GDI-1-2-5-B-CAC': ['AH-64D', 'AH-64D', 'AH-64D', 'AH-64D']}"
      ]
     },
     "execution_count": 7,
     "metadata": {},
     "output_type": "execute_result"
    }
   ],
   "source": [
    "units"
   ]
  },
  {
   "cell_type": "code",
   "execution_count": 11,
   "metadata": {},
   "outputs": [
    {
     "data": {
      "text/plain": [
       "774"
      ]
     },
     "execution_count": 11,
     "metadata": {},
     "output_type": "execute_result"
    }
   ],
   "source": [
    "len(start)"
   ]
  },
  {
   "cell_type": "code",
   "execution_count": 12,
   "metadata": {},
   "outputs": [
    {
     "data": {
      "text/plain": [
       "780"
      ]
     },
     "execution_count": 12,
     "metadata": {},
     "output_type": "execute_result"
    }
   ],
   "source": [
    "len(end)"
   ]
  },
  {
   "cell_type": "code",
   "execution_count": 6,
   "metadata": {},
   "outputs": [
    {
     "data": {
      "text/plain": [
       "0.33186197715222676"
      ]
     },
     "execution_count": 6,
     "metadata": {},
     "output_type": "execute_result"
    }
   ],
   "source": [
    "np.random.rand()"
   ]
  },
  {
   "cell_type": "code",
   "execution_count": null,
   "metadata": {},
   "outputs": [],
   "source": []
  }
 ],
 "metadata": {
  "kernelspec": {
   "display_name": "Python 3",
   "language": "python",
   "name": "python3"
  },
  "language_info": {
   "codemirror_mode": {
    "name": "ipython",
    "version": 3
   },
   "file_extension": ".py",
   "mimetype": "text/x-python",
   "name": "python",
   "nbconvert_exporter": "python",
   "pygments_lexer": "ipython3",
   "version": "3.7.9"
  }
 },
 "nbformat": 4,
 "nbformat_minor": 4
}
