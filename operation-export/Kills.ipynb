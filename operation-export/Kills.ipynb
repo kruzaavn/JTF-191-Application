{
 "cells": [
  {
   "cell_type": "code",
   "execution_count": 2,
   "metadata": {},
   "outputs": [],
   "source": [
    "import json\n",
    "import pathlib"
   ]
  },
  {
   "cell_type": "code",
   "execution_count": 12,
   "metadata": {},
   "outputs": [],
   "source": [
    "start = json.loads(pathlib.Path('mission/JTF191_Operation_ShitStorm_M1_start.json').read_text())\n",
    "end = json.loads(pathlib.Path('mission/JTF191_Operation_ShitStorm_M1_end.json').read_text())"
   ]
  },
  {
   "cell_type": "code",
   "execution_count": 21,
   "metadata": {},
   "outputs": [],
   "source": [
    "killed = {x: start[x] for x in start.keys() if x not in end.keys()}"
   ]
  },
  {
   "cell_type": "code",
   "execution_count": 25,
   "metadata": {},
   "outputs": [],
   "source": [
    "with open('mission/JTF191_Operation_ShitStorm_M1_kills.json', 'w') as f:\n",
    "    json.dump(killed, f)"
   ]
  },
  {
   "cell_type": "code",
   "execution_count": 34,
   "metadata": {},
   "outputs": [],
   "source": [
    "units_damaged = {x['GroupName'] for x in killed.values()}"
   ]
  },
  {
   "cell_type": "code",
   "execution_count": 43,
   "metadata": {},
   "outputs": [],
   "source": [
    "units = {}\n",
    "\n",
    "for unit in units_damaged:\n",
    "    units[unit] = [x['Name'] for x in killed.values() if x['GroupName'] == unit]\n",
    "    \n"
   ]
  },
  {
   "cell_type": "code",
   "execution_count": 38,
   "metadata": {},
   "outputs": [
    {
     "data": {
      "text/plain": [
       "dict_keys(['Bank', 'Coalition', 'CoalitionID', 'Country', 'Flags', 'GroupName', 'Heading', 'LatLongAlt', 'Name', 'Pitch', 'Position', 'Type', 'UnitName'])"
      ]
     },
     "execution_count": 38,
     "metadata": {},
     "output_type": "execute_result"
    }
   ],
   "source": [
    "killed['16970753'].keys()"
   ]
  },
  {
   "cell_type": "code",
   "execution_count": 44,
   "metadata": {},
   "outputs": [
    {
     "data": {
      "text/plain": [
       "{'NOD-1AF-1F-B-1': ['F-16C_50', 'F-16C_50', 'F-16C_50', 'F-16C_50'],\n",
       " 'NOD-1AF-1F-B-3': ['F-16C_50'],\n",
       " 'NOD-1AF-1F-C-2': ['F-14B', 'F-14B', 'F-14B', 'F-14B'],\n",
       " 'RSAM-NOD-7-25-D-SADB': ['Hawk sr', 'Hawk tr', 'Hawk tr'],\n",
       " 'RSAM-NOD-7-25-A-SADB': ['Hawk pcp',\n",
       "  'Hawk sr',\n",
       "  'Hawk cwar',\n",
       "  'Hawk ln',\n",
       "  'Hawk tr',\n",
       "  'Hawk ln',\n",
       "  'Hawk ln',\n",
       "  'Vulcan'],\n",
       " 'NOD-1AF-2F-A-1': ['M-2000C', 'M-2000C', 'M-2000C', 'M-2000C'],\n",
       " 'NOD-1AF-1F-A-3': ['F-16C_50', 'F-16C_50', 'F-16C_50', 'F-16C_50'],\n",
       " 'NOD-2-6-16-A-MECH': ['M1128 Stryker MGS',\n",
       "  'M1128 Stryker MGS',\n",
       "  'M1043 HMMWV Armament',\n",
       "  'M1043 HMMWV Armament',\n",
       "  'M1043 HMMWV Armament',\n",
       "  'M1126 Stryker ICV',\n",
       "  'M1126 Stryker ICV',\n",
       "  'M1126 Stryker ICV',\n",
       "  'M1134 Stryker ATGM',\n",
       "  'Vulcan'],\n",
       " 'GDI-191NF-CAW7-F-FUEL-1': ['S-3B Tanker'],\n",
       " 'NOD-7-23-B-EWRS': ['55G6 EWR'],\n",
       " 'GDI-191AF-1U-B-AWAC-2': ['E-3A'],\n",
       " 'NOD-1AF-2F-A-2': ['M-2000C', 'M-2000C'],\n",
       " 'GDI-1-2-5-B-CAC': ['AH-64D', 'AH-64D', 'AH-64D', 'AH-64D'],\n",
       " 'NOD-1AF-2F-C-2': ['M-2000C', 'M-2000C', 'M-2000C', 'M-2000C'],\n",
       " 'NOD-1AF-1U-B-UTIL-1': ['E-3A'],\n",
       " 'BSAM-GDI-1-1-2-C-HAWK': ['Hawk ln',\n",
       "  'M 818',\n",
       "  'Hawk ln',\n",
       "  'Hawk tr',\n",
       "  'Hawk ln',\n",
       "  'Hawk tr',\n",
       "  'Hawk cwar',\n",
       "  'Hawk sr',\n",
       "  'Hawk pcp'],\n",
       " 'NOD-1-3-8-B-ARTY': ['MLRS', 'MLRS'],\n",
       " 'NOD-1AF-1F-F-1': ['F-4E', 'F-4E', 'F-4E', 'F-4E'],\n",
       " 'GDI-1-1-2-A-MECH': ['M1128 Stryker MGS', 'M1128 Stryker MGS'],\n",
       " 'RSAM-NOD-7-22-B-TADB': ['Patriot str', 'Patriot str']}"
      ]
     },
     "execution_count": 44,
     "metadata": {},
     "output_type": "execute_result"
    }
   ],
   "source": [
    "units"
   ]
  },
  {
   "cell_type": "code",
   "execution_count": null,
   "metadata": {},
   "outputs": [],
   "source": []
  }
 ],
 "metadata": {
  "kernelspec": {
   "display_name": "Python 3",
   "language": "python",
   "name": "python3"
  },
  "language_info": {
   "codemirror_mode": {
    "name": "ipython",
    "version": 3
   },
   "file_extension": ".py",
   "mimetype": "text/x-python",
   "name": "python",
   "nbconvert_exporter": "python",
   "pygments_lexer": "ipython3",
   "version": "3.7.9"
  }
 },
 "nbformat": 4,
 "nbformat_minor": 4
}
