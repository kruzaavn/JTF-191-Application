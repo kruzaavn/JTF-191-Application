{
 "cells": [
  {
   "cell_type": "code",
   "execution_count": 1,
   "metadata": {},
   "outputs": [],
   "source": [
    "import json\n",
    "import pathlib"
   ]
  },
  {
   "cell_type": "code",
   "execution_count": 2,
   "metadata": {},
   "outputs": [],
   "source": [
    "start = json.loads(pathlib.Path('mission/JTF191_Operation_ShitStorm_M2_start.json').read_text())\n",
    "end = json.loads(pathlib.Path('mission/JTF191_Operation_ShitStorm_M2_end.json').read_text())"
   ]
  },
  {
   "cell_type": "code",
   "execution_count": 3,
   "metadata": {},
   "outputs": [],
   "source": [
    "killed = {x: start[x] for x in start.keys() if x not in end.keys()}"
   ]
  },
  {
   "cell_type": "code",
   "execution_count": 4,
   "metadata": {},
   "outputs": [],
   "source": [
    "with open('mission/JTF191_Operation_ShitStorm_M1_kills.json', 'w') as f:\n",
    "    json.dump(killed, f)"
   ]
  },
  {
   "cell_type": "code",
   "execution_count": 5,
   "metadata": {},
   "outputs": [],
   "source": [
    "units_damaged = {x['GroupName'] for x in killed.values()}"
   ]
  },
  {
   "cell_type": "code",
   "execution_count": 6,
   "metadata": {},
   "outputs": [],
   "source": [
    "units = {}\n",
    "\n",
    "for unit in units_damaged:\n",
    "    units[unit] = [x['Name'] for x in killed.values() if x['GroupName'] == unit]\n",
    "    \n"
   ]
  },
  {
   "cell_type": "code",
   "execution_count": 38,
   "metadata": {},
   "outputs": [
    {
     "data": {
      "text/plain": [
       "dict_keys(['Bank', 'Coalition', 'CoalitionID', 'Country', 'Flags', 'GroupName', 'Heading', 'LatLongAlt', 'Name', 'Pitch', 'Position', 'Type', 'UnitName'])"
      ]
     },
     "execution_count": 38,
     "metadata": {},
     "output_type": "execute_result"
    }
   ],
   "source": [
    "killed['16970753'].keys()"
   ]
  },
  {
   "cell_type": "code",
   "execution_count": 7,
   "metadata": {},
   "outputs": [
    {
     "data": {
      "text/plain": [
       "{'NOD-2-6-18-C-MECH': ['M1134 Stryker ATGM'],\n",
       " 'GDI-191NF-CAW7-F-FUEL-1': ['S-3B Tanker'],\n",
       " 'NOD-2-6-18-B-ARMR': ['M-1 Abrams', 'M-1 Abrams'],\n",
       " 'NOD-1-3-9-B-MECH': ['M1128 Stryker MGS',\n",
       "  'M1128 Stryker MGS',\n",
       "  'M1128 Stryker MGS',\n",
       "  'M1128 Stryker MGS',\n",
       "  'M1043 HMMWV Armament',\n",
       "  'M1043 HMMWV Armament',\n",
       "  'M1043 HMMWV Armament',\n",
       "  'M1043 HMMWV Armament',\n",
       "  'M1126 Stryker ICV',\n",
       "  'M1126 Stryker ICV',\n",
       "  'M1126 Stryker ICV',\n",
       "  'M1126 Stryker ICV',\n",
       "  'M1126 Stryker ICV',\n",
       "  'M1126 Stryker ICV',\n",
       "  'M1126 Stryker ICV',\n",
       "  'M1126 Stryker ICV',\n",
       "  'M1134 Stryker ATGM',\n",
       "  'M1134 Stryker ATGM',\n",
       "  'M1134 Stryker ATGM',\n",
       "  'M1134 Stryker ATGM',\n",
       "  'Vulcan'],\n",
       " 'GDI-1-1-3-A-ARMR': ['M1043 HMMWV Armament'],\n",
       " 'JUNO Escort': ['F-16C bl.52d', 'F-16C bl.52d'],\n",
       " 'GDI-1-1-2-A-MECH': ['M1128 Stryker MGS'],\n",
       " 'Northern CAP': ['F-16C_50', 'F-16C_50', 'F-16C_50', 'F-16C_50'],\n",
       " 'NOD-1-3-9-A-MECH': ['M1128 Stryker MGS',\n",
       "  'M1128 Stryker MGS',\n",
       "  'M1128 Stryker MGS',\n",
       "  'M1128 Stryker MGS',\n",
       "  'M1043 HMMWV Armament',\n",
       "  'M1043 HMMWV Armament',\n",
       "  'M1043 HMMWV Armament',\n",
       "  'M1043 HMMWV Armament',\n",
       "  'M1126 Stryker ICV',\n",
       "  'M1126 Stryker ICV',\n",
       "  'M1126 Stryker ICV',\n",
       "  'M1126 Stryker ICV',\n",
       "  'M1126 Stryker ICV',\n",
       "  'M1126 Stryker ICV',\n",
       "  'M1126 Stryker ICV',\n",
       "  'M1126 Stryker ICV',\n",
       "  'M1134 Stryker ATGM',\n",
       "  'M1134 Stryker ATGM',\n",
       "  'M1134 Stryker ATGM',\n",
       "  'M1134 Stryker ATGM',\n",
       "  'Vulcan'],\n",
       " 'NOD-2-6-17-C-MECH': ['M1128 Stryker MGS',\n",
       "  'M1128 Stryker MGS',\n",
       "  'M1128 Stryker MGS',\n",
       "  'M1128 Stryker MGS'],\n",
       " 'NOD-1NF-1CD-C-SILK': ['hy_launcher',\n",
       "  'hy_launcher',\n",
       "  'hy_launcher',\n",
       "  'hy_launcher',\n",
       "  'Silkworm_SR'],\n",
       " 'NOD-2-4-12-C-ARTY': ['M-109',\n",
       "  'M-109',\n",
       "  'M-109',\n",
       "  'M-109',\n",
       "  'M-109',\n",
       "  'M-109',\n",
       "  'M-109',\n",
       "  'M-109',\n",
       "  'MLRS',\n",
       "  'MLRS',\n",
       "  'MLRS',\n",
       "  'MLRS',\n",
       "  'M 818',\n",
       "  'M 818',\n",
       "  'Hummer',\n",
       "  'M 818',\n",
       "  'M 818',\n",
       "  'M 818',\n",
       "  'M 818',\n",
       "  'M 818'],\n",
       " 'GDI-1-2-5-B-CAC': ['AH-64D', 'AH-64D', 'AH-64D', 'AH-64D'],\n",
       " 'NOD-2-4-10-B-MECH': ['M1128 Stryker MGS',\n",
       "  'M1128 Stryker MGS',\n",
       "  'M1128 Stryker MGS',\n",
       "  'M1128 Stryker MGS',\n",
       "  'M1043 HMMWV Armament',\n",
       "  'M1043 HMMWV Armament',\n",
       "  'M1126 Stryker ICV',\n",
       "  'M1126 Stryker ICV',\n",
       "  'M1126 Stryker ICV',\n",
       "  'M1126 Stryker ICV',\n",
       "  'M1126 Stryker ICV',\n",
       "  'M1126 Stryker ICV',\n",
       "  'M1126 Stryker ICV',\n",
       "  'M1126 Stryker ICV',\n",
       "  'M1134 Stryker ATGM',\n",
       "  'M1134 Stryker ATGM',\n",
       "  'M1134 Stryker ATGM',\n",
       "  'M1134 Stryker ATGM',\n",
       "  'Vulcan'],\n",
       " 'NOD-2-6-16-C-ARTY': ['M-109',\n",
       "  'M-109',\n",
       "  'M-109',\n",
       "  'M-109',\n",
       "  'M-109',\n",
       "  'M-109',\n",
       "  'M-109',\n",
       "  'MLRS',\n",
       "  'MLRS',\n",
       "  'MLRS'],\n",
       " 'RSAM-NOD-7-25-C-SADB': ['Hawk ln',\n",
       "  'Hawk tr',\n",
       "  'Vulcan',\n",
       "  'Hawk pcp',\n",
       "  'Hawk sr',\n",
       "  'Hawk cwar',\n",
       "  'Hawk tr',\n",
       "  'Hawk ln',\n",
       "  'Hawk ln'],\n",
       " 'NOD-1-3-8-C-ARTY': ['M-109',\n",
       "  'M-109',\n",
       "  'M-109',\n",
       "  'M-109',\n",
       "  'MLRS',\n",
       "  'MLRS',\n",
       "  'MLRS',\n",
       "  'MLRS',\n",
       "  'M 818',\n",
       "  'M 818',\n",
       "  'Hummer',\n",
       "  'M 818',\n",
       "  'M 818',\n",
       "  'M 818'],\n",
       " 'NOD-1-3-7-C-MECH': ['M1126 Stryker ICV']}"
      ]
     },
     "execution_count": 7,
     "metadata": {},
     "output_type": "execute_result"
    }
   ],
   "source": [
    "units"
   ]
  },
  {
   "cell_type": "code",
   "execution_count": null,
   "metadata": {},
   "outputs": [],
   "source": []
  }
 ],
 "metadata": {
  "kernelspec": {
   "display_name": "Python 3",
   "language": "python",
   "name": "python3"
  },
  "language_info": {
   "codemirror_mode": {
    "name": "ipython",
    "version": 3
   },
   "file_extension": ".py",
   "mimetype": "text/x-python",
   "name": "python",
   "nbconvert_exporter": "python",
   "pygments_lexer": "ipython3",
   "version": "3.7.9"
  }
 },
 "nbformat": 4,
 "nbformat_minor": 4
}
